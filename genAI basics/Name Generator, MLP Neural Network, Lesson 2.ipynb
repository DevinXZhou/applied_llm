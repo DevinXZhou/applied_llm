{
 "cells": [
  {
   "cell_type": "code",
   "execution_count": 1,
   "id": "f5d6fdbd-184f-4466-9fb5-2dd671e5db03",
   "metadata": {},
   "outputs": [
    {
     "name": "stdout",
     "output_type": "stream",
     "text": [
      "26\n",
      "['emma', 'olivia', 'ava', 'isabella', 'sophia']\n",
      "32033\n"
     ]
    }
   ],
   "source": [
    "# load name samples\n",
    "names = open(\"names.txt\", 'r').read().splitlines()\n",
    "chars = set(''.join(names))\n",
    "print(len(chars))\n",
    "print(names[:5])\n",
    "print(len(names))"
   ]
  },
  {
   "cell_type": "code",
   "execution_count": 2,
   "id": "cd0dbb40-420a-4019-907f-710795b5e7f3",
   "metadata": {},
   "outputs": [
    {
     "name": "stdout",
     "output_type": "stream",
     "text": [
      "['*', 'a', 'b', 'c', 'd', 'e', 'f', 'g', 'h', 'i', 'j', 'k', 'l', 'm', 'n', 'o', 'p', 'q', 'r', 's', 't', 'u', 'v', 'w', 'x', 'y', 'z']\n"
     ]
    }
   ],
   "source": [
    "chars = set()\n",
    "for name in names:\n",
    "    chars = chars | set(name)\n",
    "chars = ['*'] + sorted(list(chars))\n",
    "print(chars)"
   ]
  },
  {
   "cell_type": "code",
   "execution_count": 3,
   "id": "86df02d1-9784-4fef-819f-9cc495d2539c",
   "metadata": {},
   "outputs": [
    {
     "name": "stdout",
     "output_type": "stream",
     "text": [
      "{'*': 0, 'a': 1, 'b': 2, 'c': 3, 'd': 4, 'e': 5, 'f': 6, 'g': 7, 'h': 8, 'i': 9, 'j': 10, 'k': 11, 'l': 12, 'm': 13, 'n': 14, 'o': 15, 'p': 16, 'q': 17, 'r': 18, 's': 19, 't': 20, 'u': 21, 'v': 22, 'w': 23, 'x': 24, 'y': 25, 'z': 26}\n"
     ]
    }
   ],
   "source": [
    "ctoi = {char:i for i, char in enumerate(chars)}\n",
    "itoc = {i:char for i, char in enumerate(chars)}\n",
    "print(ctoi)"
   ]
  },
  {
   "cell_type": "markdown",
   "id": "a6507803-8211-491f-b4a2-18016780855b",
   "metadata": {},
   "source": [
    "In lession 1, one char was predicted per time based on bi-gram frequency probability. Now we consider more than 2 chars combination and set a block size that can be changed."
   ]
  },
  {
   "cell_type": "code",
   "execution_count": 4,
   "id": "b0a90dee-f0a0-4958-9467-13939ca9c2dd",
   "metadata": {},
   "outputs": [],
   "source": [
    "import torch\n",
    "import torch.nn.functional as F\n",
    "import matplotlib.pyplot as plt\n",
    "\n",
    "block_size = 3\n",
    "X, Y = [], []\n",
    "for name in names:\n",
    "    context = [0] * block_size # should maintain sliding windows size of block_size\n",
    "    for char in name + '*':\n",
    "        idx = ctoi[char]\n",
    "        X.append(context)\n",
    "        Y.append(idx)\n",
    "        context = context[1:] + [idx]\n",
    "      \n",
    "\n",
    "X_all = torch.tensor(X)\n",
    "Y_all = torch.tensor(Y)"
   ]
  },
  {
   "cell_type": "code",
   "execution_count": 5,
   "id": "462084d5-9465-456c-a6d7-ac9b5bf09f21",
   "metadata": {},
   "outputs": [
    {
     "name": "stdout",
     "output_type": "stream",
     "text": [
      "torch.Size([228146, 3]) torch.int64\n",
      "torch.Size([228146]) torch.int64\n"
     ]
    }
   ],
   "source": [
    "print(X_all.shape, X_all.dtype)\n",
    "print(Y_all.shape, Y_all.dtype)"
   ]
  },
  {
   "cell_type": "code",
   "execution_count": 6,
   "id": "d624d4b6-474f-415d-a147-e3a04e767035",
   "metadata": {},
   "outputs": [],
   "source": [
    "def build_dataset(names):\n",
    "    block_size = 3\n",
    "    X, Y = [], []\n",
    "    for name in names:\n",
    "        context = [0] * block_size # should maintain sliding windows size of block_size\n",
    "        for char in name + '*':\n",
    "            idx = ctoi[char]\n",
    "            X.append(context)\n",
    "            Y.append(idx)\n",
    "            context = context[1:] + [idx]\n",
    "    X = torch.tensor(X)\n",
    "    Y = torch.tensor(Y)\n",
    "    print(X.shape, Y.shape)\n",
    "    return X, Y"
   ]
  },
  {
   "cell_type": "code",
   "execution_count": 7,
   "id": "4ce2a631-1931-462c-80f6-f8e4acdf7df5",
   "metadata": {},
   "outputs": [
    {
     "name": "stdout",
     "output_type": "stream",
     "text": [
      "torch.Size([182625, 3]) torch.Size([182625])\n",
      "torch.Size([22655, 3]) torch.Size([22655])\n",
      "torch.Size([22866, 3]) torch.Size([22866])\n"
     ]
    }
   ],
   "source": [
    "import random\n",
    "random.seed(42)\n",
    "random.shuffle(names)\n",
    "# 80% train data, 10% validation, 10% test\n",
    "n1 = int(0.8*len(names))\n",
    "n2 = int(0.9*len(names))\n",
    "Xtrain, Ytrain = build_dataset(names[:n1])\n",
    "Xval, Yval = build_dataset(names[n1:n2])\n",
    "Xtest, Ytest = build_dataset(names[n2:])"
   ]
  },
  {
   "cell_type": "code",
   "execution_count": 8,
   "id": "a7bf3c02-fee1-4bc3-8b3d-dfd84cb364fa",
   "metadata": {},
   "outputs": [],
   "source": [
    "num_samples = 32\n",
    "X = X_all[:num_samples]\n",
    "Y = Y_all[:num_samples]"
   ]
  },
  {
   "cell_type": "code",
   "execution_count": 9,
   "id": "c2b389a7-6646-4735-b49a-61c01398a068",
   "metadata": {},
   "outputs": [
    {
     "data": {
      "text/plain": [
       "torch.Size([32, 3, 2])"
      ]
     },
     "execution_count": 9,
     "metadata": {},
     "output_type": "execute_result"
    }
   ],
   "source": [
    "# assume each char token maps to a two dimentional feature vector, then 27 chars are mapped to a 27 x 2 feature matrix\n",
    "C = torch.randn((27, 2))\n",
    "# X here serves is matrix indices to allocate feature vector in C\n",
    "C[X].shape"
   ]
  },
  {
   "cell_type": "code",
   "execution_count": 10,
   "id": "4a1dc4a8-f6b7-4533-92b6-52b5ddffce63",
   "metadata": {},
   "outputs": [
    {
     "data": {
      "text/plain": [
       "torch.Size([32, 3, 2])"
      ]
     },
     "execution_count": 10,
     "metadata": {},
     "output_type": "execute_result"
    }
   ],
   "source": [
    "embeddings = C[X]\n",
    "embeddings.shape"
   ]
  },
  {
   "cell_type": "code",
   "execution_count": 11,
   "id": "aa66f1c3-ccde-4194-9306-4a6b9ee531d7",
   "metadata": {},
   "outputs": [
    {
     "data": {
      "text/plain": [
       "torch.Size([32, 6])"
      ]
     },
     "execution_count": 11,
     "metadata": {},
     "output_type": "execute_result"
    }
   ],
   "source": [
    "embeddings = embeddings.view(-1, 6)\n",
    "embeddings.shape"
   ]
  },
  {
   "cell_type": "code",
   "execution_count": 12,
   "id": "57d23cd1-ef58-493d-8865-c0242e08e5f3",
   "metadata": {},
   "outputs": [],
   "source": [
    "# initialize \"encoder\" neural network weight matrix, 6 x 100, meaning each input sample has 6 features and each feature has 100 connections\n",
    "W1 = torch.randn((6, 100))\n",
    "b1 = torch.randn((100)) # adding regularization bias values to each 100 connection weights"
   ]
  },
  {
   "cell_type": "code",
   "execution_count": 13,
   "id": "0202c574-1594-42ad-919f-9de1fcb5268d",
   "metadata": {},
   "outputs": [
    {
     "data": {
      "text/plain": [
       "torch.Size([32, 100])"
      ]
     },
     "execution_count": 13,
     "metadata": {},
     "output_type": "execute_result"
    }
   ],
   "source": [
    "# hypothesis. 32 samples embeded feature matrix 32 x 6 is multiplicating neural network weight 6 x 100\n",
    "# adding bias for regularization purpose\n",
    "# pass through activations tanh \n",
    "\n",
    "h = torch.tanh(embeddings @ W1 + b1)\n",
    "h.shape"
   ]
  },
  {
   "cell_type": "code",
   "execution_count": 14,
   "id": "ca07e33c-f52d-4880-a07e-c831dc8088a7",
   "metadata": {},
   "outputs": [],
   "source": [
    "# initialize \"decoder\" neural network weight and mapping to 27 char tokens\n",
    "W2 = torch.randn((100, 27))\n",
    "b2 = torch.randn(())"
   ]
  },
  {
   "cell_type": "code",
   "execution_count": 15,
   "id": "ea58c257-86c9-4b4f-bb74-c264a9b61d6b",
   "metadata": {},
   "outputs": [
    {
     "data": {
      "text/plain": [
       "torch.Size([32, 27])"
      ]
     },
     "execution_count": 15,
     "metadata": {},
     "output_type": "execute_result"
    }
   ],
   "source": [
    "# matrix multiplication again using previous outputs in hypothesis\n",
    "# now going for softmax and multinormial probability distribution to predict next token. Now has 27 probabilities per dataset sample\n",
    "logits = h @ W2 + b2\n",
    "logits.shape"
   ]
  },
  {
   "cell_type": "code",
   "execution_count": 16,
   "id": "376b8ac7-3c56-415a-90a6-4c80a710d187",
   "metadata": {},
   "outputs": [],
   "source": [
    "counts = logits.exp()"
   ]
  },
  {
   "cell_type": "code",
   "execution_count": 17,
   "id": "7c87c3ee-1491-4dfc-8321-38b15633bd42",
   "metadata": {},
   "outputs": [
    {
     "data": {
      "text/plain": [
       "torch.Size([32, 27])"
      ]
     },
     "execution_count": 17,
     "metadata": {},
     "output_type": "execute_result"
    }
   ],
   "source": [
    "# normalize the distribution to range of 0 ~ 1.0\n",
    "probs = counts / counts.sum(1, keepdim = True)\n",
    "probs.shape"
   ]
  },
  {
   "cell_type": "code",
   "execution_count": 18,
   "id": "083a9e5f-e0e7-41c2-897f-5a597381f77d",
   "metadata": {},
   "outputs": [
    {
     "data": {
      "text/plain": [
       "tensor(17.0541)"
      ]
     },
     "execution_count": 18,
     "metadata": {},
     "output_type": "execute_result"
    }
   ],
   "source": [
    "batch_size = 32\n",
    "\n",
    "# calculate loss per batch using softmax formula\n",
    "# use Y as index to allocate output probability\n",
    "\n",
    "loss = -probs[torch.arange(batch_size), Y].log().mean()\n",
    "loss"
   ]
  },
  {
   "cell_type": "markdown",
   "id": "edaf73a5-cf8e-4fa7-b138-7e5b935f28c4",
   "metadata": {},
   "source": [
    "## Before Jumping to Train a Robust Name Generator, train a 2 feature embeddings model to boost confidence"
   ]
  },
  {
   "cell_type": "code",
   "execution_count": 23,
   "id": "bdb07bf6-a0ed-460b-bb16-0758f4fed5b5",
   "metadata": {},
   "outputs": [
    {
     "data": {
      "text/plain": [
       "[<matplotlib.lines.Line2D at 0x10f9375e0>]"
      ]
     },
     "execution_count": 23,
     "metadata": {},
     "output_type": "execute_result"
    },
    {
     "data": {
      "image/png": "[encoded data removed]",
      "text/plain": [
       "<Figure size 640x480 with 1 Axes>"
      ]
     },
     "metadata": {},
     "output_type": "display_data"
    }
   ],
   "source": [
    "g = torch.Generator().manual_seed(2147483647) # for reproducibility\n",
    "# 27 char tokens, each char token maps to 2 features \n",
    "C = torch.randn((27, 2), generator=g)\n",
    "# each char maps to 10 feature vector, and each input sample has 3 chars, so 30 features per input sample, giving 200 nodes per feature layer\n",
    "W1 = torch.randn((6, 200), generator=g)\n",
    "# 200 bias for each feature layer\n",
    "b1 = torch.randn(200, generator=g)\n",
    "# decoding back to 27 chars probabilities\n",
    "W2 = torch.randn((200, 27), generator=g)\n",
    "b2 = torch.randn(27, generator=g)\n",
    "parameters = [C, W1, b1, W2, b2]\n",
    "\n",
    "lre = torch.linspace(-3, 0, 1000)\n",
    "lrs = 10**lre\n",
    "\n",
    "\n",
    "for p in parameters:\n",
    "    p.requires_grad = True\n",
    "\n",
    "loss_i = []\n",
    "step_i = []\n",
    "\n",
    "for i in range(200000):\n",
    "  \n",
    "    # minibatch construct\n",
    "    ix = torch.randint(0, Xtrain.shape[0], (32,))\n",
    "    \n",
    "    # forward pass\n",
    "    emb = C[Xtrain[ix]] # (32, 3, 10)\n",
    "    h = torch.tanh(emb.view(-1, 6) @ W1 + b1) # (32, 200)\n",
    "    logits = h @ W2 + b2 # (32, 27)\n",
    "    loss = F.cross_entropy(logits, Ytrain[ix])\n",
    "    #print(loss.item())\n",
    "    \n",
    "    # backward pass\n",
    "    for p in parameters:\n",
    "        p.grad = None\n",
    "    loss.backward()\n",
    "    \n",
    "    # update\n",
    "    #lr = lrs[i]\n",
    "    lr = 0.1 if i < 100000 else 0.01\n",
    "    for p in parameters:\n",
    "        p.data += -lr * p.grad\n",
    "    \n",
    "    step_i.append(i)\n",
    "    loss_i.append(loss.log10().item())\n",
    "\n",
    "# plot decreasing loss over training iterations\n",
    "plt.plot(step_i, loss_i)\n"
   ]
  },
  {
   "cell_type": "code",
   "execution_count": 24,
   "id": "b65889a9-ba62-43a7-9859-6302bbaeb60f",
   "metadata": {},
   "outputs": [
    {
     "data": {
      "image/png": "[encoded data removed]",
      "text/plain": [
       "<Figure size 800x800 with 1 Axes>"
      ]
     },
     "metadata": {},
     "output_type": "display_data"
    }
   ],
   "source": [
    "# Using 2 feature embeddings will cluster a,e,i,o,u, 10 features won't tell unless perform PCA to down dimension the 10 features to 2\n",
    "\n",
    "# visualize dimensions 0 and 1 of the embedding matrix C for all characters\n",
    "plt.figure(figsize=(8,8))\n",
    "plt.scatter(C[:,0].data, C[:,1].data, s=200)\n",
    "for i in range(C.shape[0]):\n",
    "    plt.text(C[i,0].item(), C[i,1].item(), itoc[i], ha=\"center\", va=\"center\", color='white')\n",
    "plt.grid('minor')\n"
   ]
  },
  {
   "cell_type": "markdown",
   "id": "fff7d68b-3562-47f3-a0cd-c42b72828693",
   "metadata": {},
   "source": [
    "## Train a More Complex NN Model"
   ]
  },
  {
   "cell_type": "code",
   "execution_count": 25,
   "id": "59ef2023-f134-49a9-aef7-715fd6d82fb9",
   "metadata": {},
   "outputs": [],
   "source": [
    "g = torch.Generator().manual_seed(2147483647) # for reproducibility\n",
    "# 27 char tokens, each char token maps to 10 features vector instead of 2 now\n",
    "C = torch.randn((27, 10), generator=g)\n",
    "# each char maps to 10 feature vector, and each input sample has 3 chars, so 30 features per input sample, giving 200 nodes per feature layer\n",
    "W1 = torch.randn((30, 200), generator=g)\n",
    "# 200 bias for each feature layer\n",
    "b1 = torch.randn(200, generator=g)\n",
    "# decoding back to 27 chars probabilities\n",
    "W2 = torch.randn((200, 27), generator=g)\n",
    "b2 = torch.randn(27, generator=g)\n",
    "parameters = [C, W1, b1, W2, b2]"
   ]
  },
  {
   "cell_type": "code",
   "execution_count": 26,
   "id": "860bbeb3-b95d-4581-a70e-659daa27dcf5",
   "metadata": {},
   "outputs": [],
   "source": [
    "lre = torch.linspace(-3, 0, 1000)\n",
    "lrs = 10**lre\n",
    "\n",
    "\n",
    "for p in parameters:\n",
    "    p.requires_grad = True"
   ]
  },
  {
   "cell_type": "code",
   "execution_count": 27,
   "id": "2b82c691-8622-4f72-9afd-cea54d81f23a",
   "metadata": {},
   "outputs": [],
   "source": [
    "lri = []\n",
    "lossi = []\n",
    "stepi = []\n",
    "\n",
    "for i in range(200000):\n",
    "  \n",
    "  # minibatch construct\n",
    "  ix = torch.randint(0, Xtrain.shape[0], (32,))\n",
    "  \n",
    "  # forward pass\n",
    "  emb = C[Xtrain[ix]] # (32, 3, 10)\n",
    "  h = torch.tanh(emb.view(-1, 30) @ W1 + b1) # (32, 200)\n",
    "  logits = h @ W2 + b2 # (32, 27)\n",
    "  loss = F.cross_entropy(logits, Ytrain[ix])\n",
    "  #print(loss.item())\n",
    "  \n",
    "  # backward pass\n",
    "  for p in parameters:\n",
    "    p.grad = None\n",
    "  loss.backward()\n",
    "  \n",
    "  # update\n",
    "  #lr = lrs[i]\n",
    "  lr = 0.1 if i < 100000 else 0.01\n",
    "  for p in parameters:\n",
    "    p.data += -lr * p.grad\n",
    "\n",
    "  # track stats\n",
    "  #lri.append(lre[i])\n",
    "  stepi.append(i)\n",
    "  lossi.append(loss.log10().item())\n",
    "\n",
    "#print(loss.item())"
   ]
  },
  {
   "cell_type": "code",
   "execution_count": 28,
   "id": "1f8e9659-94a2-4b70-93c0-7ff6053ef142",
   "metadata": {},
   "outputs": [
    {
     "data": {
      "text/plain": [
       "[<matplotlib.lines.Line2D at 0x10d4bea10>]"
      ]
     },
     "execution_count": 28,
     "metadata": {},
     "output_type": "execute_result"
    },
    {
     "data": {
      "image/png": "[encoded data removed]",
      "text/plain": [
       "<Figure size 640x480 with 1 Axes>"
      ]
     },
     "metadata": {},
     "output_type": "display_data"
    }
   ],
   "source": [
    "# plot decreasing loss over training iterations\n",
    "plt.plot(step_i, loss_i)"
   ]
  },
  {
   "cell_type": "code",
   "execution_count": 29,
   "id": "ed768af6-1f3b-4021-9834-6c5c6fda4be3",
   "metadata": {},
   "outputs": [
    {
     "data": {
      "text/plain": [
       "tensor(2.1305, grad_fn=<NllLossBackward0>)"
      ]
     },
     "execution_count": 29,
     "metadata": {},
     "output_type": "execute_result"
    }
   ],
   "source": [
    "# train loss\n",
    "emb = C[Xtrain] # (32, 3, 2)\n",
    "h = torch.tanh(emb.view(-1, 30) @ W1 + b1) # (32, 100)\n",
    "logits = h @ W2 + b2 # (32, 27)\n",
    "loss = F.cross_entropy(logits, Ytrain)\n",
    "loss"
   ]
  },
  {
   "cell_type": "code",
   "execution_count": 30,
   "id": "25d3a5ec-8dbc-446e-9011-2722ee93518a",
   "metadata": {},
   "outputs": [
    {
     "data": {
      "text/plain": [
       "tensor(2.1710, grad_fn=<NllLossBackward0>)"
      ]
     },
     "execution_count": 30,
     "metadata": {},
     "output_type": "execute_result"
    }
   ],
   "source": [
    "# test loss\n",
    "emb = C[Xtest] # (32, 3, 2)\n",
    "h = torch.tanh(emb.view(-1, 30) @ W1 + b1) # (32, 100)\n",
    "logits = h @ W2 + b2 # (32, 27)\n",
    "loss = F.cross_entropy(logits, Ytest)\n",
    "loss"
   ]
  },
  {
   "cell_type": "code",
   "execution_count": 42,
   "id": "a653cca1-5161-4edc-bd69-d62cb153601c",
   "metadata": {},
   "outputs": [
    {
     "name": "stdout",
     "output_type": "stream",
     "text": [
      "Carpavela\n",
      "Jhari\n",
      "Kimlyn\n",
      "Thty\n",
      "Skanden\n",
      "Jazhnen\n",
      "Den\n",
      "Rhe\n",
      "Kaqui\n",
      "Ner\n"
     ]
    }
   ],
   "source": [
    "# Write a name predictor\n",
    "\n",
    "# sample from the model\n",
    "g = torch.Generator().manual_seed(2147483647 + 10)\n",
    "\n",
    "\n",
    "block_size = 3\n",
    "\n",
    "num_predictions = 10\n",
    "\n",
    "for _ in range(num_predictions):\n",
    "    name = \"\"\n",
    "    context = [0] * block_size\n",
    "    count = 0\n",
    "    while True:\n",
    "        embeddings = C[torch.tensor([context])] # [1, 3, 10]\n",
    "    \n",
    "        h = torch.tanh(embeddings.view(1, 30) @ W1 + b1) # (1, 200)\n",
    "       \n",
    "        logits = h @ W2 + b2 # (1, 27)\n",
    "        \n",
    "        probs = torch.softmax(logits, dim=1)\n",
    "\n",
    "        # select next token index based on multinomial distribution\n",
    "        ix = torch.multinomial(probs, num_samples=1, generator=g).item()\n",
    "\n",
    "\n",
    "        if ix == 0:\n",
    "            # end of the name generation\n",
    "            break\n",
    "        # shift context window\n",
    "        context = context[1:] + [ix]\n",
    "        char = itoc[ix]\n",
    "        if count == 0:\n",
    "            char = char.upper()\n",
    "        name += char\n",
    "        count += 1\n",
    "        \n",
    "    \n",
    "    print(name)"
   ]
  },
  {
   "cell_type": "code",
   "execution_count": null,
   "id": "1b69d974-f022-49e0-a297-ccccbfe26cfd",
   "metadata": {},
   "outputs": [],
   "source": []
  }
 ],
 "metadata": {
  "kernelspec": {
   "display_name": "Python 3 (ipykernel)",
   "language": "python",
   "name": "python3"
  },
  "language_info": {
   "codemirror_mode": {
    "name": "ipython",
    "version": 3
   },
   "file_extension": ".py",
   "mimetype": "text/x-python",
   "name": "python",
   "nbconvert_exporter": "python",
   "pygments_lexer": "ipython3",
   "version": "3.10.14"
  }
 },
 "nbformat": 4,
 "nbformat_minor": 5
}
